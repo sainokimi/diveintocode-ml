{
 "cells": [
  {
   "cell_type": "code",
   "execution_count": 50,
   "metadata": {},
   "outputs": [
    {
     "data": {
      "text/plain": [
       "[<matplotlib.lines.Line2D at 0x11a152c88>]"
      ]
     },
     "execution_count": 50,
     "metadata": {},
     "output_type": "execute_result"
    },
    {
     "data": {
      "image/png": "[encoded data removed]",
      "text/plain": [
       "<Figure size 432x288 with 1 Axes>"
      ]
     },
     "metadata": {},
     "output_type": "display_data"
    }
   ],
   "source": [
    "# 課題１：　１００日後の米粒の数\n",
    "\n",
    "import matplotlib.pyplot as plt\n",
    "%matplotlib inline\n",
    "\n",
    "DAY = 100\n",
    "tmp = 1\n",
    "\n",
    "# ある日にもらう米の数\n",
    "list_n_grains = [1]\n",
    "\n",
    "#　ある日までにもらう米の累計\n",
    "list_total_grains = [1]\n",
    "\n",
    "# 各日にもらう米の数の計算\n",
    "for day in range( DAY - 1):\n",
    "    tmp = list_n_grains[day]*2\n",
    "    list_n_grains.append(tmp)\n",
    "    list_total_grains.append(sum(list_n_grains))\n",
    "    \n",
    "#print(list_n_grains)\n",
    "#print(len(list_n_grains))\n",
    "\n",
    "#print(list_total_grains)\n",
    "#print(len(list_total_grains))\n",
    "\n",
    "plt.title(\"number of grains\")\n",
    "plt.xlabel(\"day\")\n",
    "plt.ylabel(\"number of grains\")\n",
    "plt.grid(True, alpha=0.5, linestyle=\"--\")\n",
    "plt.plot(list_total_grains)"
   ]
  },
  {
   "cell_type": "code",
   "execution_count": 1,
   "metadata": {},
   "outputs": [
    {
     "ename": "NameError",
     "evalue": "name 'DAY' is not defined",
     "output_type": "error",
     "traceback": [
      "\u001b[0;31m---------------------------------------------------------------------------\u001b[0m",
      "\u001b[0;31mNameError\u001b[0m                                 Traceback (most recent call last)",
      "\u001b[0;32m<ipython-input-1-98067923987b>\u001b[0m in \u001b[0;36m<module>\u001b[0;34m()\u001b[0m\n\u001b[1;32m      7\u001b[0m \u001b[0mlist_total_grains\u001b[0m \u001b[0;34m=\u001b[0m \u001b[0;34m[\u001b[0m\u001b[0;36m1\u001b[0m\u001b[0;34m]\u001b[0m\u001b[0;34m\u001b[0m\u001b[0m\n\u001b[1;32m      8\u001b[0m \u001b[0;34m\u001b[0m\u001b[0m\n\u001b[0;32m----> 9\u001b[0;31m \u001b[0;32mdef\u001b[0m \u001b[0mcompute_sorori_shinzaemon\u001b[0m\u001b[0;34m(\u001b[0m\u001b[0mday\u001b[0m\u001b[0;34m=\u001b[0m\u001b[0mDAY\u001b[0m\u001b[0;34m)\u001b[0m\u001b[0;34m:\u001b[0m\u001b[0;34m\u001b[0m\u001b[0m\n\u001b[0m\u001b[1;32m     10\u001b[0m \u001b[0;34m\u001b[0m\u001b[0m\n\u001b[1;32m     11\u001b[0m     \u001b[0;31m# 各日にもらう米の数の計算\u001b[0m\u001b[0;34m\u001b[0m\u001b[0;34m\u001b[0m\u001b[0m\n",
      "\u001b[0;31mNameError\u001b[0m: name 'DAY' is not defined"
     ]
    }
   ],
   "source": [
    "# 課題2： 100日後以外の米粒の数\n",
    "\n",
    "# ある日にもらう米の数\n",
    "list_n_grains = [1]\n",
    "\n",
    "#　ある日までにもらう米の累計\n",
    "list_total_grains = [1]\n",
    "\n",
    "def compute_sorori_shinzaemon(day=DAY):\n",
    "    \n",
    "    # 各日にもらう米の数の計算\n",
    "    for dd in range( day - 1):\n",
    "        tmp = list_n_grains[dd]*2\n",
    "        list_n_grains.append(tmp)\n",
    "        list_total_grains.append(sum(list_n_grains))\n",
    "\n",
    "compute_sorori_shinzaemon(20)\n",
    "print(list_total_grains)\n",
    "plt.title(\"number of grains\")\n",
    "plt.xlabel(\"day\")\n",
    "plt.ylabel(\"number of grains\")\n",
    "plt.grid(True, alpha=0.5, linestyle=\"--\")\n",
    "plt.plot(list_total_grains)"
   ]
  },
  {
   "cell_type": "code",
   "execution_count": 3,
   "metadata": {},
   "outputs": [
    {
     "data": {
      "text/plain": [
       "2684.35456"
      ]
     },
     "execution_count": 3,
     "metadata": {},
     "output_type": "execute_result"
    }
   ],
   "source": [
    "0.00008*2**25"
   ]
  }
 ],
 "metadata": {
  "kernelspec": {
   "display_name": "Python 3",
   "language": "python",
   "name": "python3"
  },
  "language_info": {
   "codemirror_mode": {
    "name": "ipython",
    "version": 3
   },
   "file_extension": ".py",
   "mimetype": "text/x-python",
   "name": "python",
   "nbconvert_exporter": "python",
   "pygments_lexer": "ipython3",
   "version": "3.6.5"
  }
 },
 "nbformat": 4,
 "nbformat_minor": 2
}

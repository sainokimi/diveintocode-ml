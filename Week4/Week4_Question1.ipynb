{
 "cells": [
  {
   "cell_type": "markdown",
   "metadata": {},
   "source": [
    "# Week4 授業課題"
   ]
  },
  {
   "cell_type": "markdown",
   "metadata": {},
   "source": [
    "___\n",
    "## 問題２：学習と検証"
   ]
  },
  {
   "cell_type": "markdown",
   "metadata": {},
   "source": [
    "### import section"
   ]
  },
  {
   "cell_type": "code",
   "execution_count": 2,
   "metadata": {},
   "outputs": [],
   "source": [
    "import numpy as np\n",
    "import pandas as pd\n",
    "\n",
    "import matplotlib.pyplot as plt\n",
    "import seaborn as sns\n",
    "%matplotlib inline\n",
    "\n",
    "from sklearn.datasets import load_iris\n",
    "from sklearn.model_selection import train_test_split\n",
    "from sklearn.preprocessing import StandardScaler\n",
    "from sklearn.neighbors import KNeighborsClassifier\n",
    "from sklearn.metrics import accuracy_score\n",
    "from sklearn.metrics import precision_score\n",
    "from sklearn.metrics import recall_score\n",
    "from sklearn.metrics import f1_score\n",
    "from sklearn.metrics import confusion_matrix"
   ]
  },
  {
   "cell_type": "markdown",
   "metadata": {},
   "source": [
    "### read csv"
   ]
  },
  {
   "cell_type": "code",
   "execution_count": 3,
   "metadata": {},
   "outputs": [],
   "source": [
    "train_dataset = pd.read_csv(\"../Week3/home-credit-default-risk/application_train.csv\")\n",
    "test_dataset = pd.read_csv(\"../Week3/home-credit-default-risk/application_test.csv\")\n",
    "\n",
    "# train_dataset.info()"
   ]
  },
  {
   "cell_type": "markdown",
   "metadata": {},
   "source": [
    "### データの前処理"
   ]
  },
  {
   "cell_type": "code",
   "execution_count": 4,
   "metadata": {},
   "outputs": [],
   "source": [
    "# Concatenate two dataset to treat as one\n",
    "train_test_df = pd.concat([train_dataset, test_dataset], axis=0, sort=False)\n",
    "\n",
    "# Fill missings\n",
    "train_test_df = train_test_df.fillna(-1)\n",
    "\n",
    "# Replace categorical value to dummy value\n",
    "train_test_df = pd.get_dummies(train_test_df)\n",
    "\n",
    "# Devide concatenated dataset as original form each dataset\n",
    "train_dataset_nomiss = train_test_df.iloc[:307511, :]\n",
    "test_dataset_nomiss = train_test_df.iloc[307511:, :]\n",
    "\n",
    "# Create train data and test data from train_dataset_nomiss\n",
    "x_train, x_test, y_train, y_test = train_test_split(np.array(train_dataset_nomiss.iloc[:, 2:]), \\\n",
    "                                                    np.array(train_dataset_nomiss.loc[:, [\"TARGET\"]]), \\\n",
    "                                                    train_size=0.70, test_size=0.20)\n",
    "                                                                                                                                                              "
   ]
  },
  {
   "cell_type": "code",
   "execution_count": null,
   "metadata": {},
   "outputs": [],
   "source": [
    "sc = StandardScaler()\n",
    "sc.fit(x_train)\n",
    "\n",
    "x_train_trans = sc.transform(x_train)\n",
    "x_test_trans = sc.transform(x_test)\n",
    "\n",
    "model = KNeighborsClassifier(n_neighbors=1)\n",
    "model.fit(x_train_trans, y_train)\n"
   ]
  },
  {
   "cell_type": "code",
   "execution_count": null,
   "metadata": {},
   "outputs": [],
   "source": [
    "model.predict_proba(x_test_trans)"
   ]
  },
  {
   "cell_type": "code",
   "execution_count": null,
   "metadata": {},
   "outputs": [],
   "source": [
    "model.score(x_test_trans, y_test)"
   ]
  }
 ],
 "metadata": {
  "kernelspec": {
   "display_name": "Python 3",
   "language": "python",
   "name": "python3"
  },
  "language_info": {
   "codemirror_mode": {
    "name": "ipython",
    "version": 3
   },
   "file_extension": ".py",
   "mimetype": "text/x-python",
   "name": "python",
   "nbconvert_exporter": "python",
   "pygments_lexer": "ipython3",
   "version": "3.6.8"
  }
 },
 "nbformat": 4,
 "nbformat_minor": 4
}

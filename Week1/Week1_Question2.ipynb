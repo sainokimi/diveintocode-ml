{
 "cells": [
  {
   "cell_type": "markdown",
   "metadata": {},
   "source": [
    "# 課題1： 富士山を超える最小の折る回数"
   ]
  },
  {
   "cell_type": "code",
   "execution_count": 4,
   "metadata": {},
   "outputs": [
    {
     "name": "stdout",
     "output_type": "stream",
     "text": [
      "富士山を超える最小の折る回数は26回です。\n"
     ]
    }
   ],
   "source": [
    "#課題1： 富士山を超える最小の折る回数\n",
    "\n",
    "ATUMI = 0.00008\n",
    "FUJISAN = 3776\n",
    "fold_num = 0\n",
    "\n",
    "folded_thickness = ATUMI\n",
    "while FUJISAN > folded_thickness:\n",
    "\n",
    "    folded_thickness *= 2\n",
    "    fold_num += 1\n",
    "\n",
    "print(\"富士山を超える最小の折る回数は{}回です。\".format(fold_num))"
   ]
  },
  {
   "cell_type": "markdown",
   "metadata": {},
   "source": [
    "___\n",
    "# 課題2： 任意の厚さに対応した関数を作成\n",
    "\n",
    "** 課題２の前に調査 **\n",
    "<br>[最も近い太陽以外の恒星]</br>プロキシマ・ケンタウリ -> 4.243光年"
   ]
  },
  {
   "cell_type": "code",
   "execution_count": 19,
   "metadata": {},
   "outputs": [
    {
     "name": "stdout",
     "output_type": "stream",
     "text": [
      "紙を69回折ると、距離40141879395160.336[km]を超えます(紙の厚み：47223664828696.45[km])\n"
     ]
    }
   ],
   "source": [
    "#課題2： 任意の厚さに対応した関数を作成\n",
    "\n",
    "LIGHT_YEAR = 9460730472580800\n",
    "PROXIMA_CENTAURI = 4.243\n",
    "\n",
    "# Calculate fold number enough to reach to 'distance'\n",
    "def calc_fold_num(distance, thickness=1):\n",
    "    \n",
    "    folded_thickness = thickness\n",
    "    fold_num = 0\n",
    "    \n",
    "    if distance == 0:\n",
    "        distance = PROXIMA_CENTAURI*LIGHT_YEAR\n",
    "    \n",
    "    while distance > folded_thickness:\n",
    "    \n",
    "        folded_thickness = folded_thickness*2\n",
    "        fold_num += 1\n",
    "        \n",
    "    print(\"紙を{}回折ると、距離{}[km]を超えます(紙の厚み：{}[km])\".format(fold_num, distance/1000, folded_thickness/1000))\n",
    "\n",
    "calc_fold_num(float(input(\"到達したい距離[m]は？(\\\"0\\\"を入力すると、プロキシマ・ケンタウリまでの距離を使用) -> \")), \\\n",
    "             float(input(\"折る紙の厚み[m]は？ -> \")))"
   ]
  },
  {
   "cell_type": "markdown",
   "metadata": {},
   "source": [
    "___\n",
    "# 課題3： 必要な紙の長さ\n",
    "** 課題3の前に調査 **\n",
    "<br>[月までの距離]</br>\n",
    "384,400km\n",
    "\n",
    "** 紙の長さを求める公式をメモ（数式記述の練習） **\n",
    "$$\n",
    "L=\\frac{\\pi t_0}{6}(2^n+4)(2^n-1)\n",
    "$$"
   ]
  },
  {
   "cell_type": "code",
   "execution_count": 33,
   "metadata": {},
   "outputs": [
    {
     "name": "stdout",
     "output_type": "stream",
     "text": [
      "69\n",
      "Proxima Centauriに到達するために必要な紙の長さは1.4595803601100347e+34[km]です。\n"
     ]
    }
   ],
   "source": [
    "import math\n",
    "\n",
    "DISTANCE_TO_MOON = 384400000\n",
    "\n",
    "# Calculate fold number enough to reach to 'distance'\n",
    "def calc_fold_num(target_no, thickness=1):\n",
    "    \n",
    "    folded_thickness = thickness\n",
    "    fold_num = 0\n",
    "    distance = 0\n",
    "    \n",
    "    if target_no == 0:\n",
    "        distance = PROXIMA_CENTAURI*LIGHT_YEAR\n",
    "    elif target_no == 1:\n",
    "        distance = FUJISAN\n",
    "    elif target_no == 2:\n",
    "        distance = DISTANCE_TO_MOON\n",
    "    else:\n",
    "        distance = 0\n",
    "        \n",
    "    while distance > folded_thickness:\n",
    "    \n",
    "        folded_thickness = folded_thickness*2\n",
    "        fold_num += 1\n",
    "        \n",
    "    print(fold_num)\n",
    "    return fold_num\n",
    "\n",
    "# Calculate paper length to reach to target\n",
    "def calc_paper_length(target_no, thickness):\n",
    "    \n",
    "    fold_num = calc_fold_num(target_no, thickness)\n",
    "    \n",
    "    paper_length = (math.pi*thickness)/6*(2**fold_num + 4)*(2**fold_num - 1)\n",
    "    \n",
    "    return paper_length\n",
    "\n",
    "target_no = float(input(\"ターゲットNo.を入力してください[0:Proxima Centauri, 1:Mt.Fuji, 2:Moon] -> \"))\n",
    "thickness = float(input(\"使用する紙の厚みを入力してください[m] -> \"))\n",
    "\n",
    "target = \"\"\n",
    "if target_no == 0:\n",
    "    target = \"Proxima Centauri\"\n",
    "elif target_no == 1:\n",
    "    target = \"Mt.Fuji\"\n",
    "elif target_no == 2:\n",
    "    target = \"Moon\"\n",
    "else:\n",
    "    print(\"Not exist target number.\\nStop this program\")\n",
    "    quit()\n",
    "\n",
    "paper_length = calc_paper_length(target_no, thickness)\n",
    "print(\"{}に到達するために必要な紙の長さは{}[km]です。\".format(target, paper_length/1000, \"red\"))"
   ]
  }
 ],
 "metadata": {
  "kernelspec": {
   "display_name": "Python 3",
   "language": "python",
   "name": "python3"
  },
  "language_info": {
   "codemirror_mode": {
    "name": "ipython",
    "version": 3
   },
   "file_extension": ".py",
   "mimetype": "text/x-python",
   "name": "python",
   "nbconvert_exporter": "python",
   "pygments_lexer": "ipython3",
   "version": "3.6.5"
  }
 },
 "nbformat": 4,
 "nbformat_minor": 2
}

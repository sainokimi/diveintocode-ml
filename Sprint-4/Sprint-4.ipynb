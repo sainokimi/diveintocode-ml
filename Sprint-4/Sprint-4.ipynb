{
 "cells": [
  {
   "cell_type": "markdown",
   "metadata": {},
   "source": [
    "# Sprint-4：ロジスティック回帰のスクラッチ\n",
    "___"
   ]
  },
  {
   "cell_type": "markdown",
   "metadata": {},
   "source": [
    "## import部"
   ]
  },
  {
   "cell_type": "code",
   "execution_count": 68,
   "metadata": {},
   "outputs": [],
   "source": [
    "import numpy as np\n",
    "import pandas as pd\n",
    "import math\n",
    "\n",
    "import matplotlib.pyplot as plt\n",
    "from matplotlib.colors import ListedColormap\n",
    "import seaborn as sns\n",
    "%matplotlib inline\n",
    "\n",
    "import missingno as msno\n",
    "\n",
    "from sklearn.model_selection import train_test_split\n",
    "\n",
    "from sklearn.metrics import accuracy_score\n",
    "from sklearn.metrics import precision_score\n",
    "from sklearn.metrics import recall_score\n",
    "from sklearn.metrics import f1_score\n",
    "from sklearn.metrics import confusion_matrix\n",
    "from sklearn.metrics import roc_curve, auc\n",
    "\n",
    "from sklearn.preprocessing import StandardScaler\n",
    "\n",
    "from sklearn.linear_model import LogisticRegression\n",
    "\n",
    "from sklearn.datasets import load_iris"
   ]
  },
  {
   "cell_type": "markdown",
   "metadata": {},
   "source": [
    "## 定数"
   ]
  },
  {
   "cell_type": "code",
   "execution_count": 2,
   "metadata": {},
   "outputs": [],
   "source": [
    "LAMDA = 1"
   ]
  },
  {
   "cell_type": "markdown",
   "metadata": {},
   "source": [
    "## クラス：ScratchLogisticRegression"
   ]
  },
  {
   "cell_type": "code",
   "execution_count": 51,
   "metadata": {},
   "outputs": [],
   "source": [
    "class ScratchLogisticRegression():\n",
    "    \"\"\"\n",
    "    ロジスティック回帰のスクラッチ実装\n",
    "\n",
    "    Parameters\n",
    "    ----------\n",
    "    num_iter : int\n",
    "      イテレーション数\n",
    "    lr : float\n",
    "      学習率\n",
    "    no_bias : bool\n",
    "      バイアス項を入れない場合はTrue\n",
    "    verbose : bool\n",
    "      学習過程を出力する場合はTrue\n",
    "\n",
    "    Attributes\n",
    "    ----------\n",
    "    self.coef_ : 次の形のndarray, shape (n_features,)\n",
    "      パラメータ\n",
    "    self.loss : 次の形のndarray, shape (self.iter,)\n",
    "      学習用データに対する損失の記録\n",
    "    self.val_loss : 次の形のndarray, shape (self.iter,)\n",
    "      検証用データに対する損失の記録\n",
    "\n",
    "    \"\"\"\n",
    "\n",
    "    def __init__(self, num_iter=10, lr=0.01, bias=False, verbose=False):\n",
    "        # ハイパーパラメータを属性として記録\n",
    "        self.iter = num_iter\n",
    "        self.lr = lr\n",
    "        self.bias = bias\n",
    "        self.verbose = verbose\n",
    "        # 損失を記録する配列を用意\n",
    "        self.loss = np.zeros(self.iter)\n",
    "        self.val_loss = np.zeros(self.iter)\n",
    "        \n",
    "        self.theta = np.array(0)\n",
    "\n",
    "    def fit(self, X, y, X_val=None, y_val=None):\n",
    "        \"\"\"\n",
    "        ロジスティック回帰を学習する。検証用データが入力された場合はそれに対する損失と精度もイテレーションごとに計算する。\n",
    "\n",
    "        Parameters\n",
    "        ----------\n",
    "        X : 次の形のndarray, shape (n_samples, n_features)\n",
    "            学習用データの特徴量\n",
    "        y : 次の形のndarray, shape (n_samples, )\n",
    "            学習用データの正解値\n",
    "        X_val : 次の形のndarray, shape (n_samples, n_features)\n",
    "            検証用データの特徴量\n",
    "        y_val : 次の形のndarray, shape (n_samples, )\n",
    "            検証用データの正解値\n",
    "        \"\"\"\n",
    "        \n",
    "        # Set theta with random value\n",
    "        onesX_train = np.array([np.concatenate(([1], v)) for v in X])\n",
    "        \n",
    "        if len(X_val) != 0 and len(y_val) != 0:\n",
    "            onesX_test = np.array([np.concatenate(([1], v)) for v in X_val])\n",
    "        \n",
    "        self.theta = np.random.rand(len(onesX_train[0]))\n",
    "        \n",
    "        count = 0\n",
    "        while count < self.iter:\n",
    "            \n",
    "            # Update theata value\n",
    "            self._gradient_descent(onesX_train, y)\n",
    "\n",
    "            # Pre-step to calculate loss\n",
    "            y_eq_0 = np.inner(-y, np.log(self._sig_linear_hypothesis(onesX_train)))\n",
    "            y_eq_1 = np.inner((1 - y), np.log(1 - self._sig_linear_hypothesis(onesX_train)))\n",
    "            reg_term = (LAMDA / (2*len(onesX_train))) * np.sum(self.theta**2)\n",
    "\n",
    "            # Calculate loss\n",
    "            self.loss[count] = (1/len(onesX_train) * (np.sum(y_eq_0 - y_eq_1))) + reg_term\n",
    "\n",
    "            \n",
    "            # For test data\n",
    "            if X_val is not None and y_val is not None:\n",
    "                y_eq_0 = np.dot(-y_val, np.log(self._sig_linear_hypothesis(onesX_test)))\n",
    "                y_eq_1 = np.dot((1 - y_val), np.log(1 - self._sig_linear_hypothesis(onesX_test)))\n",
    "                reg_term = (LAMDA / (2*len(onesX_test))) * np.sum(self.theta**2)\n",
    "\n",
    "                self.val_loss[count] = 1/len(onesX_test) * (np.sum(y_eq_0 - y_eq_1)) + reg_term\n",
    "\n",
    "            count += 1\n",
    "\n",
    "            if self.verbose:\n",
    "                #verboseをTrueにした際は学習過程を出力\n",
    "#                 print(\"{}回目の損失：{}\".format(count, self.loss[count-1]))\n",
    "                print(\"y_eq_0:{}\".format(y_eq_0))\n",
    "                print(\"y_eq_1:{}\".format(y_eq_1))\n",
    "                print(\"reg_term:{}\".format(reg_term))\n",
    "\n",
    "    def predict(self, X):\n",
    "        \"\"\"\n",
    "        ロジスティック回帰を使いラベルを推定する。\n",
    "\n",
    "        Parameters\n",
    "        ----------\n",
    "        X : 次の形のndarray, shape (n_samples, n_features)\n",
    "            サンプル\n",
    "\n",
    "        Returns\n",
    "        -------\n",
    "            次の形のndarray, shape (n_samples, 1)\n",
    "            ロジスティック回帰による推定結果\n",
    "        \"\"\"\n",
    "\n",
    "        pass\n",
    "        return\n",
    "\n",
    "    def predict_proba(self, X):\n",
    "        \"\"\"\n",
    "        ロジスティック回帰を使い確率を推定する。\n",
    "\n",
    "        Parameters\n",
    "        ----------\n",
    "        X : 次の形のndarray, shape (n_samples, n_features)\n",
    "            サンプル\n",
    "\n",
    "        Returns\n",
    "        -------\n",
    "            次の形のndarray, shape (n_samples, 1)\n",
    "            ロジスティック回帰による推定結果\n",
    "        \"\"\"\n",
    "\n",
    "        onesX = np.array([np.concatenate(([1], v)) for v in X])\n",
    "        \n",
    "        return self._sig_linear_hypothesis(onesX)\n",
    "    \n",
    "    def _sig_linear_hypothesis(self, X):\n",
    "        \"\"\"\n",
    "        ロジスティック回帰の仮定関数を計算する\n",
    "\n",
    "        Parameters\n",
    "        ----------\n",
    "        X : 次の形のndarray, shape (n_samples, n_features)\n",
    "          学習データ\n",
    "\n",
    "        Returns\n",
    "        -------\n",
    "          次の形のndarray, shape (n_samples, 1)\n",
    "          線形の仮定関数による推定結果\n",
    "\n",
    "        \"\"\"\n",
    "\n",
    "        # Calculate hypothesis with sigmoid\n",
    "        h_theta_x = 1 / (1 + np.exp(-np.dot(X, self.theta)))\n",
    "\n",
    "        return h_theta_x\n",
    "                        \n",
    "    def _gradient_descent(self, X, y):\n",
    "        \"\"\"\n",
    "        説明を記述\n",
    "        \"\"\"\n",
    "        \n",
    "        error = self._sig_linear_hypothesis(X) - y\n",
    "#         print(\"error:{}\".format(error))\n",
    "        # Calculate likelihood\n",
    "        likelihood = np.dot(error, X)\n",
    "#         print(\"self._sig_linear_hypothesis(X):{}\".format(self._sig_linear_hypothesis(X)))\n",
    "#         print(\"likelihood:{}\".format(likelihood))\n",
    "    \n",
    "        # Calculate regularization term\n",
    "        reg_term = LAMDA/len(X) * np.concatenate([[0], self.theta[1:]]) \n",
    "        \n",
    "        # Update theta with regularization term\n",
    "        self.theta = self.theta - self.lr*(1/len(X) * likelihood + reg_term)\n",
    "#         print(\"theta:{}\".format(self.theta))\n",
    "#         print(\"reg_term:{}\".format(reg_term))\n",
    "        \n",
    "    def plot_loss(self):\n",
    "        \"\"\"\n",
    "        説明を記述\n",
    "        \"\"\"\n",
    "        x1 = np.arange(len(self.loss))\n",
    "        x2 = np.arange(len(self.val_loss))\n",
    "\n",
    "        fig = plt.figure(figsize=(12,8))\n",
    "        plt.plot(x1, self.loss)\n",
    "        plt.plot(x2, self.val_loss)\n",
    "        plt.show()"
   ]
  },
  {
   "cell_type": "markdown",
   "metadata": {},
   "source": [
    "## データセットの読み込み"
   ]
  },
  {
   "cell_type": "code",
   "execution_count": 4,
   "metadata": {},
   "outputs": [],
   "source": [
    "iris_dataset = load_iris()"
   ]
  },
  {
   "cell_type": "markdown",
   "metadata": {},
   "source": [
    "## データセットから対象範囲を抽出"
   ]
  },
  {
   "cell_type": "code",
   "execution_count": 5,
   "metadata": {},
   "outputs": [],
   "source": [
    "iris_data_df = pd.DataFrame(iris_dataset.data, columns=iris_dataset.feature_names)\n",
    "target_iris_df = pd.DataFrame(iris_dataset.target)\n",
    "\n",
    "iris_df = pd.concat([iris_data_df, target_iris_df], axis=1)\n",
    "iris_df = iris_df.rename(columns={0:\"species\"})\n",
    "\n",
    "# Extract 'virgicolor'(species=1) and 'virginica'(species=2)\n",
    "data_virs = iris_df[iris_df['species'].isin(['1','2'])]\n",
    "# data_virs_sh = data_virs.sample(frac=1)"
   ]
  },
  {
   "cell_type": "markdown",
   "metadata": {},
   "source": [
    "## 学習用にデータを整形"
   ]
  },
  {
   "cell_type": "code",
   "execution_count": 7,
   "metadata": {},
   "outputs": [],
   "source": [
    "train_X = data_virs.drop([\"species\"], axis=1)\n",
    "train_Y = data_virs[\"species\"]\n",
    "train_Y_01 = train_Y - 1"
   ]
  },
  {
   "cell_type": "markdown",
   "metadata": {},
   "source": [
    "## 学習用とテスト用にデータを分割"
   ]
  },
  {
   "cell_type": "code",
   "execution_count": 48,
   "metadata": {},
   "outputs": [],
   "source": [
    "x_train, x_test, y_train, y_test = train_test_split(np.array(train_X), \\\n",
    "                                                    np.array(train_Y_01), \\\n",
    "                                                    train_size=0.70, test_size=0.30)"
   ]
  },
  {
   "cell_type": "markdown",
   "metadata": {},
   "source": [
    "## データの標準化"
   ]
  },
  {
   "cell_type": "code",
   "execution_count": 49,
   "metadata": {},
   "outputs": [],
   "source": [
    "sc = StandardScaler()\n",
    "std_train_X = sc.fit_transform(x_train)\n",
    "std_test_X = sc.fit_transform(x_test)"
   ]
  },
  {
   "cell_type": "markdown",
   "metadata": {},
   "source": [
    "## スクラッチしたロジスティック回帰の学習を実行"
   ]
  },
  {
   "cell_type": "code",
   "execution_count": 62,
   "metadata": {},
   "outputs": [],
   "source": [
    "slr = ScratchLogisticRegression(num_iter=1000)\n",
    "slr.fit(x_train, y_train, x_test, y_test)"
   ]
  },
  {
   "cell_type": "code",
   "execution_count": 64,
   "metadata": {},
   "outputs": [],
   "source": [
    "pred_proba = slr.predict_proba(x_test)"
   ]
  },
  {
   "cell_type": "code",
   "execution_count": 63,
   "metadata": {},
   "outputs": [
    {
     "data": {
      "image/png": "[encoded data removed]",
      "text/plain": [
       "<Figure size 864x576 with 1 Axes>"
      ]
     },
     "metadata": {
      "needs_background": "light"
     },
     "output_type": "display_data"
    }
   ],
   "source": [
    "slr.plot_loss()"
   ]
  },
  {
   "cell_type": "code",
   "execution_count": 65,
   "metadata": {},
   "outputs": [
    {
     "data": {
      "text/plain": [
       "0.9907407407407407"
      ]
     },
     "execution_count": 65,
     "metadata": {},
     "output_type": "execute_result"
    }
   ],
   "source": [
    "fpr, tpr, thresholds = roc_curve(y_test, pred_proba, pos_label=1)\n",
    "auc(fpr, tpr)"
   ]
  },
  {
   "cell_type": "code",
   "execution_count": 66,
   "metadata": {},
   "outputs": [
    {
     "name": "stderr",
     "output_type": "stream",
     "text": [
      "/Users/toshihiko/.pyenv/versions/anaconda3-5.2.0/lib/python3.6/site-packages/sklearn/linear_model/logistic.py:433: FutureWarning: Default solver will be changed to 'lbfgs' in 0.22. Specify a solver to silence this warning.\n",
      "  FutureWarning)\n"
     ]
    }
   ],
   "source": [
    "lr_model = LogisticRegression()\n",
    "lr_model.fit(x_train, y_train)\n",
    "pred_sci = lr_model.predict_proba(x_test)"
   ]
  },
  {
   "cell_type": "code",
   "execution_count": 67,
   "metadata": {},
   "outputs": [
    {
     "data": {
      "text/plain": [
       "0.0"
      ]
     },
     "execution_count": 67,
     "metadata": {},
     "output_type": "execute_result"
    }
   ],
   "source": [
    "fpr, tpr, thresholds = roc_curve(y_test, pred_sci[:, :1].reshape(30,), pos_label=1)\n",
    "auc(fpr, tpr)"
   ]
  },
  {
   "cell_type": "code",
   "execution_count": 104,
   "metadata": {},
   "outputs": [],
   "source": [
    "train_X_2nd = data_virs.iloc[:, 1:3]\n",
    "train_Y_2nd = data_virs[\"species\"]\n",
    "train_Y_01_2nd = train_Y_2nd - 1"
   ]
  },
  {
   "cell_type": "code",
   "execution_count": 108,
   "metadata": {},
   "outputs": [],
   "source": [
    "x_train_2nd, x_test_2nd, y_train_2nd, y_test_2nd = train_test_split(np.array(train_X_2nd), \\\n",
    "                                                    np.array(train_Y_01_2nd), \\\n",
    "                                                    train_size=0.70, test_size=0.30)"
   ]
  },
  {
   "cell_type": "code",
   "execution_count": 109,
   "metadata": {},
   "outputs": [],
   "source": [
    "slr_2nd = ScratchLogisticRegression(num_iter=1000)\n",
    "slr_2nd.fit(x_train_2nd, y_train_2nd, x_test_2nd, y_test_2nd)"
   ]
  },
  {
   "cell_type": "code",
   "execution_count": 110,
   "metadata": {},
   "outputs": [
    {
     "data": {
      "image/png": "[encoded data removed]",
      "text/plain": [
       "<Figure size 864x576 with 1 Axes>"
      ]
     },
     "metadata": {
      "needs_background": "light"
     },
     "output_type": "display_data"
    }
   ],
   "source": [
    "slr_2nd.plot_loss()"
   ]
  },
  {
   "cell_type": "code",
   "execution_count": 111,
   "metadata": {},
   "outputs": [],
   "source": [
    "y_pred_2nd = slr_2nd.predict_proba(x_test_2nd)"
   ]
  }
 ],
 "metadata": {
  "kernelspec": {
   "display_name": "Python 3",
   "language": "python",
   "name": "python3"
  },
  "language_info": {
   "codemirror_mode": {
    "name": "ipython",
    "version": 3
   },
   "file_extension": ".py",
   "mimetype": "text/x-python",
   "name": "python",
   "nbconvert_exporter": "python",
   "pygments_lexer": "ipython3",
   "version": "3.6.8"
  }
 },
 "nbformat": 4,
 "nbformat_minor": 4
}

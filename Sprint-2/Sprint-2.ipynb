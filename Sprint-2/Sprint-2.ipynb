{
 "cells": [
  {
   "cell_type": "markdown",
   "metadata": {},
   "source": [
    "# 問題1：train_test_splitのスクラッチ"
   ]
  },
  {
   "cell_type": "code",
   "execution_count": 11,
   "metadata": {},
   "outputs": [],
   "source": [
    "import numpy as np\n",
    "import pandas as pd\n",
    "\n",
    "import matplotlib.pyplot as plt\n",
    "import seaborn as sns\n",
    "%matplotlib inline\n",
    "\n",
    "from sklearn.model_selection import train_test_split\n",
    "from sklearn.preprocessing import StandardScaler\n",
    "\n",
    "from sklearn.metrics import accuracy_score\n",
    "from sklearn.metrics import precision_score\n",
    "from sklearn.metrics import recall_score\n",
    "from sklearn.metrics import f1_score\n",
    "from sklearn.metrics import confusion_matrix\n",
    "from sklearn.metrics import roc_curve, auc\n",
    "\n",
    "from sklearn.ensemble import RandomForestClassifier\n",
    "from sklearn.linear_model import LinearRegression\n",
    "\n",
    "from sklearn.model_selection import KFold\n",
    "from sklearn.grid_search import GridSearchCV"
   ]
  },
  {
   "cell_type": "code",
   "execution_count": 3,
   "metadata": {},
   "outputs": [],
   "source": [
    "def scratch_train_test_split(X, y, train_size=0.8,):\n",
    "    \"\"\"\n",
    "    検証用データを分割する。\n",
    "\n",
    "    Parameters\n",
    "    ----------\n",
    "    X : 次の形のndarray, shape (n_samples, n_features)\n",
    "      学習データ\n",
    "    y : 次の形のndarray, shape (n_samples, )\n",
    "      正解値\n",
    "    train_size : float (0<train_size<1)\n",
    "      何割をtrainとするか指定\n",
    "\n",
    "    Returns\n",
    "    ----------\n",
    "    X_train : 次の形のndarray, shape (n_samples, n_features)\n",
    "      学習データ\n",
    "    X_test : 次の形のndarray, shape (n_samples, n_features)\n",
    "      検証データ\n",
    "    y_train : 次の形のndarray, shape (n_samples, )\n",
    "      学習データの正解値\n",
    "    y_test : 次の形のndarray, shape (n_samples, )\n",
    "      検証データの正解値\n",
    "    \"\"\"\n",
    "    \n",
    "    X_train_index = int(len(X)*train_size)\n",
    "    y_train_index = int(len(y)*train_size)\n",
    "    \n",
    "    X_train = X[0:X_train_index, :]\n",
    "    X_test = X[X_train_index:, :]\n",
    "    y_train = y[0:y_train_index]\n",
    "    y_test = y[y_train_index:]\n",
    "\n",
    "    return X_train, X_test, y_train, y_test"
   ]
  },
  {
   "cell_type": "code",
   "execution_count": 10,
   "metadata": {},
   "outputs": [
    {
     "name": "stdout",
     "output_type": "stream",
     "text": [
      "X_train = [[0 1 2]\n",
      " [2 4 6]\n",
      " [3 6 9]\n",
      " [1 1 2]\n",
      " [3 1 4]\n",
      " [9 8 7]\n",
      " [8 4 2]\n",
      " [7 1 9]]\n",
      "X_test = [[4 0 1]\n",
      " [5 3 9]]\n",
      "y_train = [2 6 9 2 4 7 2 9]\n",
      "y_test = [1 9]\n"
     ]
    }
   ],
   "source": [
    "# dummy ndarray\n",
    "dummy_ndarray_X = np.array([[0, 1, 2],\n",
    "                            [2, 4, 6],\n",
    "                            [3, 6, 9],\n",
    "                            [1, 1, 2],\n",
    "                            [3, 1, 4],\n",
    "                            [9, 8, 7],\n",
    "                            [8, 4, 2],\n",
    "                            [7, 1, 9],\n",
    "                            [4, 0, 1],\n",
    "                            [5, 3, 9]])\n",
    "\n",
    "dummy_ndarray_y = np.array([2, 6, 9, 2, 4, 7, 2, 9, 1, 9])\n",
    "\n",
    "X_train, X_test, y_train, y_test = scratch_train_test_split(dummy_ndarray_X, dummy_ndarray_y)\n",
    "\n",
    "print(\"X_train = {}\".format(X_train))\n",
    "print(\"X_test = {}\".format(X_test))\n",
    "print(\"y_train = {}\".format(y_train))\n",
    "print(\"y_test = {}\".format(y_test))"
   ]
  },
  {
   "cell_type": "markdown",
   "metadata": {},
   "source": [
    "___\n",
    "## 問題3：回帰問題を解くコードの作成"
   ]
  },
  {
   "cell_type": "code",
   "execution_count": 13,
   "metadata": {},
   "outputs": [],
   "source": [
    "train_dataset = pd.read_csv(\"../Week3/application_train.csv\")\n",
    "test_dataset = pd.read_csv(\"../Week3/application_test.csv\")\n",
    "\n",
    "# Fill missings\n",
    "train_dataset_filled = train_dataset.fillna(-1)\n",
    "test_dataset_filled = test_dataset.fillna(-1)\n",
    "\n",
    "# Replace categorical value to dummy value\n",
    "for col in train_dataset_filled.columns:\n",
    "    labels, uniques = pd.factorize(train_dataset_filled[col])\n",
    "    train_dataset_filled[[col]] = labels\n",
    "\n",
    "for col in test_dataset_filled.columns:\n",
    "    labels, uniques = pd.factorize(test_dataset_filled[col])\n",
    "    test_dataset_filled[[col]] = labels\n",
    "    \n",
    "train_X = train_dataset_filled.drop([\"TARGET\"], axis=1)\n",
    "train_Y = train_dataset_filled[\"TARGET\"]\n",
    "\n",
    "# Create train data and test data\n",
    "x_train, x_test, y_train, y_test = train_test_split(np.array(train_X), \\\n",
    "                                                    np.array(train_Y), \\\n",
    "                                                    train_size=0.70, test_size=0.30)"
   ]
  },
  {
   "cell_type": "code",
   "execution_count": 12,
   "metadata": {},
   "outputs": [],
   "source": [
    "lr_model = LinearRegression()"
   ]
  },
  {
   "cell_type": "code",
   "execution_count": 14,
   "metadata": {},
   "outputs": [],
   "source": [
    "lr_model = lr_model.fit(x_train, y_train)"
   ]
  },
  {
   "cell_type": "code",
   "execution_count": 15,
   "metadata": {},
   "outputs": [],
   "source": [
    "pred = lr_model.predict(x_test)"
   ]
  },
  {
   "cell_type": "code",
   "execution_count": 16,
   "metadata": {},
   "outputs": [],
   "source": [
    "fpr, tpr, thresholds = roc_curve(y_test, pred, pos_label=1)"
   ]
  },
  {
   "cell_type": "code",
   "execution_count": 17,
   "metadata": {},
   "outputs": [
    {
     "data": {
      "text/plain": [
       "0.6588709702609495"
      ]
     },
     "execution_count": 17,
     "metadata": {},
     "output_type": "execute_result"
    }
   ],
   "source": [
    "auc(fpr, tpr)"
   ]
  }
 ],
 "metadata": {
  "kernelspec": {
   "display_name": "Python 3",
   "language": "python",
   "name": "python3"
  },
  "language_info": {
   "codemirror_mode": {
    "name": "ipython",
    "version": 3
   },
   "file_extension": ".py",
   "mimetype": "text/x-python",
   "name": "python",
   "nbconvert_exporter": "python",
   "pygments_lexer": "ipython3",
   "version": "3.6.5"
  }
 },
 "nbformat": 4,
 "nbformat_minor": 4
}

{
 "cells": [
  {
   "cell_type": "code",
   "execution_count": 18,
   "metadata": {},
   "outputs": [
    {
     "name": "stdout",
     "output_type": "stream",
     "text": [
      "26\n"
     ]
    }
   ],
   "source": [
    "#課題1： 富士山を超える最小の折る回数\n",
    "\n",
    "ATUMI = 0.00008\n",
    "FUJISAN = 3776\n",
    "kekka = 0\n",
    "fold_num = 0\n",
    "\n",
    "kekka = ATUMI\n",
    "while FUJISAN > kekka:\n",
    "    \n",
    "    #if FUJISAN < kekka:\n",
    "     #   break\n",
    "    \n",
    "    kekka *= 2\n",
    "    fold_num += 1\n",
    "\n",
    "print(fold_num)"
   ]
  },
  {
   "cell_type": "code",
   "execution_count": 26,
   "metadata": {},
   "outputs": [
    {
     "name": "stdout",
     "output_type": "stream",
     "text": [
      "1010\n",
      "1\n",
      "紙を1回折ると、1000を超えます\n"
     ]
    }
   ],
   "source": [
    "#課題2： 任意の厚さに対応した関数を作成\n",
    "\n",
    "# ”光年”の正確な値\n",
    "LIGHT_YEAR = 9460730472580800\n",
    "folded_thickness = 0\n",
    "\n",
    "def cal_fold_num(distance=0, thickness=0):\n",
    "    \n",
    "    folded_thickness = thickness\n",
    "    fold_num = 0\n",
    "    \n",
    "    while True:\n",
    "    \n",
    "        if distance < folded_thickness:\n",
    "            break\n",
    "    \n",
    "        folded_thickness = folded_thickness * 2\n",
    "        print(folded_thickness)\n",
    "        fold_num += 1\n",
    "        print(fold_num)\n",
    "        \n",
    "    print(\"紙を{}回折ると、{}を超えます\".format(fold_num, distance))\n",
    "\n",
    "cal_fold_num(input(), input())"
   ]
  }
 ],
 "metadata": {
  "kernelspec": {
   "display_name": "Python 3",
   "language": "python",
   "name": "python3"
  },
  "language_info": {
   "codemirror_mode": {
    "name": "ipython",
    "version": 3
   },
   "file_extension": ".py",
   "mimetype": "text/x-python",
   "name": "python",
   "nbconvert_exporter": "python",
   "pygments_lexer": "ipython3",
   "version": "3.6.5"
  }
 },
 "nbformat": 4,
 "nbformat_minor": 2
}

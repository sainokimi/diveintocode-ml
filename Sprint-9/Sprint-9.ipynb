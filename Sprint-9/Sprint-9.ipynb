{
 "cells": [
  {
   "cell_type": "markdown",
   "metadata": {},
   "source": [
    "# Sprint-9：ニューラルネットワークのスクラッチ\n",
    "___"
   ]
  },
  {
   "cell_type": "code",
   "execution_count": 51,
   "metadata": {},
   "outputs": [],
   "source": [
    "import numpy as np\n",
    "import pandas as pd\n",
    "\n",
    "import matplotlib.pyplot as plt\n",
    "%matplotlib inline\n",
    "\n",
    "from sklearn.model_selection import train_test_split\n",
    "\n",
    "from keras.datasets import mnist\n",
    "from sklearn.preprocessing import OneHotEncoder\n",
    "\n",
    "from sklearn.metrics import accuracy_score"
   ]
  },
  {
   "cell_type": "code",
   "execution_count": 2,
   "metadata": {},
   "outputs": [],
   "source": [
    "np.set_printoptions(threshold=30)"
   ]
  },
  {
   "cell_type": "code",
   "execution_count": 61,
   "metadata": {},
   "outputs": [],
   "source": [
    "(X_train, y_train), (X_test, y_test) = mnist.load_data()"
   ]
  },
  {
   "cell_type": "code",
   "execution_count": 62,
   "metadata": {},
   "outputs": [],
   "source": [
    "X_train = X_train.reshape(-1, 784)\n",
    "X_test = X_test.reshape(-1, 784)"
   ]
  },
  {
   "cell_type": "code",
   "execution_count": 63,
   "metadata": {},
   "outputs": [
    {
     "data": {
      "image/png": "[encoded data removed]",
      "text/plain": [
       "<Figure size 432x288 with 1 Axes>"
      ]
     },
     "metadata": {
      "needs_background": "light"
     },
     "output_type": "display_data"
    }
   ],
   "source": [
    "index = 0\n",
    "image = X_train[index].reshape(28,28)\n",
    "# X_train[index]: (784,)\n",
    "# image: (28, 28)\n",
    "plt.imshow(image, 'gray')\n",
    "plt.title('label : {}'.format(y_train[index]))\n",
    "plt.show()"
   ]
  },
  {
   "cell_type": "code",
   "execution_count": 64,
   "metadata": {},
   "outputs": [
    {
     "name": "stdout",
     "output_type": "stream",
     "text": [
      "1.0\n",
      "0.0\n"
     ]
    }
   ],
   "source": [
    "X_train = X_train.astype(np.float)\n",
    "X_test = X_test.astype(np.float)\n",
    "X_train /= 255\n",
    "X_test /= 255\n",
    "print(X_train.max()) # 1.0\n",
    "print(X_train.min()) # 0.0"
   ]
  },
  {
   "cell_type": "code",
   "execution_count": 65,
   "metadata": {},
   "outputs": [],
   "source": [
    "# enc = OneHotEncoder(handle_unknown='ignore', sparse=False)\n",
    "# y_train_one_hot = enc.fit_transform(y_train[:, np.newaxis])\n",
    "# y_test_one_hot = enc.transform(y_test[:, np.newaxis])\n",
    "# print(y_train.shape) # (60000,)\n",
    "# print(y_train_one_hot.shape) # (60000, 10)\n",
    "# print(y_train_one_hot.dtype) # float64"
   ]
  },
  {
   "cell_type": "code",
   "execution_count": 66,
   "metadata": {},
   "outputs": [],
   "source": [
    "X_train, X_val, y_train, y_val = train_test_split(X_train, y_train, test_size=0.2)"
   ]
  },
  {
   "cell_type": "code",
   "execution_count": 67,
   "metadata": {},
   "outputs": [],
   "source": [
    "enc = OneHotEncoder(handle_unknown='ignore', sparse=False)\n",
    "y_train_one_hot = enc.fit_transform(y_train[:, np.newaxis])\n",
    "y_test_one_hot = enc.transform(y_val[:, np.newaxis])"
   ]
  },
  {
   "cell_type": "markdown",
   "metadata": {},
   "source": [
    "## クラス：ScratchSimpleNeuralNetrowkClassifier"
   ]
  },
  {
   "cell_type": "code",
   "execution_count": 73,
   "metadata": {},
   "outputs": [],
   "source": [
    "class ScratchSimpleNeuralNetrowkClassifier():\n",
    "    \"\"\"\n",
    "    シンプルな三層ニューラルネットワーク分類器\n",
    "\n",
    "    Parameters\n",
    "    ----------\n",
    "\n",
    "    Attributes\n",
    "    ----------\n",
    "    \"\"\"\n",
    "\n",
    "    def __init__(self, lr=0.0001, epoch=5, batch_size=20, n_features=784, n_nodes1=400, \\\n",
    "                 n_nodes2=200, n_output=10, active_method=\"t\", verbose=True):\n",
    "        \n",
    "        self.verbose = verbose\n",
    "        \n",
    "        self.sigma = 0.01 # ガウス分布の標準偏差\n",
    "        \n",
    "        self.lr = lr\n",
    "\n",
    "        self.epoch = epoch\n",
    "        self.batch_size = batch_size # バッチサイズ\n",
    "        self.n_features = n_features # 特徴量の数\n",
    "        self.n_nodes1 = n_nodes1 # 1層目のノード数\n",
    "        self.n_nodes2 = n_nodes2 # 2層目のノード数\n",
    "        self.n_output = n_output # 出力のクラス数（3層目のノード数）\n",
    "\n",
    "        # 第一層の重みとバイアスの初期値\n",
    "        self.W1 = self.sigma * np.random.randn(self.n_features+1, self.n_nodes1)\n",
    "        self.b1 = self.sigma * np.random.randn(self.n_nodes1)\n",
    "\n",
    "        # 第二層の重みとバイアスの初期値\n",
    "        self.W2 = self.sigma * np.random.randn(self.n_nodes1, self.n_nodes2)\n",
    "        self.b2 = self.sigma * np.random.randn(self.n_nodes2)\n",
    "\n",
    "        # 第三層の重みとバイアスの初期値\n",
    "        self.W3 = self.sigma * np.random.randn(self.n_nodes2, self.n_output)\n",
    "        self.b3 = self.sigma * np.random.randn(self.n_output)\n",
    "        \n",
    "        self.L = []\n",
    "        self.L_val = []\n",
    "        \n",
    "        self.active_method = active_method\n",
    "\n",
    "    def fit(self, X, y, X_val=None, y_val=None):\n",
    "        \"\"\"\n",
    "        ニューラルネットワーク分類器を学習する。\n",
    "\n",
    "        Parameters\n",
    "        ----------\n",
    "        X : 次の形のndarray, shape (n_samples, n_features)\n",
    "            訓練用データの特徴量\n",
    "        y : 次の形のndarray, shape (n_samples, )\n",
    "            訓練用データの正解値\n",
    "        X_val : 次の形のndarray, shape (n_samples, n_features)\n",
    "            検証用データの特徴量\n",
    "        y_val : 次の形のndarray, shape (n_samples, )\n",
    "            検証用データの正解値\n",
    "        \"\"\"\n",
    "\n",
    "        X_with_bias = np.insert(X, 0 , 1, axis=1)\n",
    "        \n",
    "        if X_val is not None and y_val is not None:\n",
    "            X_val_with_bias = np.insert(X_val, 0 , 1, axis=1)\n",
    "        \n",
    "        # Create mini-batch\n",
    "        get_mini_batch = GetMiniBatch(X_with_bias, y, batch_size=self.batch_size)\n",
    "        \n",
    "        if X_val is not None and y_val is not None:\n",
    "            X_val_with_bias = np.insert(X_val, 0 , 1, axis=1)\n",
    "            \n",
    "            mini_X_val_train = []\n",
    "            mini_y_val_train = []\n",
    "            \n",
    "            get_mini_batch_val = GetMiniBatch(X_with_bias, y, batch_size=self.batch_size)\n",
    "            for temp_X, temp_y in get_mini_batch_val:\n",
    "                mini_X_val_train.append(temp_X)\n",
    "                mini_y_val_train.append(temp_y)\n",
    "        \n",
    "        idx_for_val = 0\n",
    "        for _ in range(self.epoch):\n",
    "            for mini_X_train, mini_y_train in get_mini_batch:\n",
    "\n",
    "                Z1, Z2, Z3, A1, A2 = self._forward_propa(mini_X_train)\n",
    "\n",
    "                self.L.append(self._cross_entropy_error(mini_y_train, Z3))\n",
    "                \n",
    "                if X_val is not None and y_val is not None:\n",
    "                    Z1_val, Z2_val, Z3_val, A1_val, A2_val = self._forward_propa(mini_X_val_train[idx_for_val])\n",
    "                    self.L_val.append(self._cross_entropy_error(mini_y_val_train[idx_for_val], Z3_val))\n",
    "\n",
    "                self._back_propa(mini_X_train, mini_y_train, Z1, Z2, Z3, A1, A2)\n",
    "                \n",
    "            idx_for_val = 0\n",
    "        \n",
    "        if self.verbose:\n",
    "            #verboseをTrueにした際は学習過程などを出力する\n",
    "            \n",
    "            fig = plt.figure(figsize=(12, 8))\n",
    "            \n",
    "            plt.plot(range(len(self.L)), self.L)\n",
    "            \n",
    "            if X_val is not None and y_val is not None:\n",
    "                plt.plot(range(len(self.L_val)), self.L_val)\n",
    "            \n",
    "            plt.show\n",
    "\n",
    "    def predict(self, X):\n",
    "        \"\"\"\n",
    "        ニューラルネットワーク分類器を使い推定する。\n",
    "\n",
    "        Parameters\n",
    "        ----------\n",
    "        X : 次の形のndarray, shape (n_samples, n_features)\n",
    "            サンプル\n",
    "\n",
    "        Returns\n",
    "        -------\n",
    "            次の形のndarray, shape (n_samples, 1)\n",
    "            推定結果\n",
    "        \"\"\"\n",
    "\n",
    "        X_with_bias = np.insert(X, 0 , 1, axis=1)\n",
    "        \n",
    "        Z1, Z2, Z3, A1, A2 = self._forward_propa(X_with_bias)\n",
    "        \n",
    "#         rates = np.zeros(10)\n",
    "        \n",
    "#         for row in Z3:\n",
    "            \n",
    "#             idx = np.argmax(row)\n",
    "#             rates[idx] += 1\n",
    "        \n",
    "#         return np.argmax(rates)\n",
    "        return np.argmax(Z3, axis=1)\n",
    "    \n",
    "    def _forward_propa(self, X):\n",
    "        \n",
    "        A1 = np.dot(X, self.W1) + self.b1\n",
    "        Z1 = activation_mathod(self.active_method, A1)\n",
    "\n",
    "        A2 = np.dot(Z1, self.W2) + self.b2\n",
    "        Z2 = activation_mathod(self.active_method, A2)\n",
    "\n",
    "        A3 = np.dot(Z2, self.W3) + self.b3\n",
    "        Z3 = softmax(A3)\n",
    "#         print(\"[for] b1:{}, b2:{}, b3:{}\".format(self.b1.shape, self.b2.shape, self.b3.shape))\n",
    "        \n",
    "        return Z1, Z2, Z3, A1, A2\n",
    "    \n",
    "    def _back_propa(self, X, y, Z1, Z2, Z3, A1, A2):\n",
    "        \n",
    "        A3 = Z3 - y\n",
    "        temp_b3 = np.sum(A3, axis=0)\n",
    "        self.b3 = self.b3 - self.lr*temp_b3\n",
    "        temp_W3 = np.dot(Z2.T, A3)\n",
    "        self.W3 = self.W3 - self.lr*temp_W3\n",
    "        Z2 = np.dot(A3, self.W3.T)\n",
    "\n",
    "        A2 = Z2 * (1 - activation_mathod(self.active_method, A2)**2)\n",
    "        temp_b2 = np.sum(A2, axis=0)\n",
    "        self.b2 = self.b2 - self.lr*temp_b2\n",
    "        temp_W2 = np.dot(Z1.T, A2)\n",
    "        self.W2 = self.W2 - self.lr*temp_W2\n",
    "        Z1 = np.dot(A2, self.W2.T)\n",
    "\n",
    "        A1 = Z1 * (1 - activation_mathod(self.active_method, A1)**2)\n",
    "        temp_b1 = np.sum(A1, axis=0)\n",
    "        self.b1 = self.b1 - self.lr*temp_b1\n",
    "        temp_W1 = np.dot(X.T, A1)\n",
    "        self.W1 = self.W1 - self.lr*temp_W1\n",
    "        \n",
    "#         print(\"[back] b1:{}, b2:{}, b3:{}\".format(self.b1.shape, self.b2.shape, self.b3.shape))\n",
    "        \n",
    "    def _cross_entropy_error(self, y, Z3):\n",
    "\n",
    "        delta = 1e-7\n",
    "        return -np.sum(y*np.log(Z3 + delta)) / self.batch_size\n",
    "    \n",
    "# def softmax(a):\n",
    "#     # 一番大きい値を取得\n",
    "#     c = np.max(a)\n",
    "#     # 各要素から一番大きな値を引く（オーバーフロー対策）\n",
    "#     exp_a = np.exp(a - c)\n",
    "#     sum_exp_a = np.sum(exp_a)\n",
    "#     # 要素の値/全体の要素の合計\n",
    "#     y = exp_a / sum_exp_a\n",
    "\n",
    "#     return y\n",
    "\n",
    "def softmax(x):\n",
    "    if x.ndim == 2:\n",
    "        x = x.T\n",
    "        x = x - np.max(x, axis=0)\n",
    "        y = np.exp(x) / np.sum(np.exp(x), axis=0)\n",
    "        return y.T\n",
    "\n",
    "    x = x - np.max(x)\n",
    "    return np.exp(x) / np.sum(np.exp(x))\n",
    "\n",
    "def activation_mathod(str, a):\n",
    "    \n",
    "    if str == \"s\":\n",
    "        \n",
    "        ret = sigmoid(a)\n",
    "        \n",
    "    elif str == \"t\":\n",
    "    \n",
    "        ret = hyperbolic_tangent(a)\n",
    "        \n",
    "    else:\n",
    "        print()\n",
    "        \n",
    "    return ret\n",
    "\n",
    "def sigmoid(a):\n",
    "    \n",
    "    return 1 / 1 + np.exp(-a)\n",
    "\n",
    "def hyperbolic_tangent(a):\n",
    "    \n",
    "    return np.tanh(a)"
   ]
  },
  {
   "cell_type": "code",
   "execution_count": 42,
   "metadata": {},
   "outputs": [
    {
     "name": "stdout",
     "output_type": "stream",
     "text": [
      "[1. 1. 1. ... 1. 1. 1.]\n"
     ]
    }
   ],
   "source": [
    "ret = softmax(X_train)\n",
    "print(np.sum(ret, axis=1))"
   ]
  },
  {
   "cell_type": "markdown",
   "metadata": {},
   "source": [
    "## クラス：GetMiniBatch"
   ]
  },
  {
   "cell_type": "code",
   "execution_count": 11,
   "metadata": {},
   "outputs": [],
   "source": [
    "class GetMiniBatch:\n",
    "    \"\"\"\n",
    "    ミニバッチを取得するイテレータ\n",
    "\n",
    "    Parameters\n",
    "    ----------\n",
    "    X : 次の形のndarray, shape (n_samples, n_features)\n",
    "      訓練用データ\n",
    "    y : 次の形のndarray, shape (n_samples, 1)\n",
    "      正解値\n",
    "    batch_size : int\n",
    "      バッチサイズ\n",
    "    seed : int\n",
    "      NumPyの乱数のシード\n",
    "    \"\"\"\n",
    "    def __init__(self, X, y, batch_size = 20, seed=0):\n",
    "        self.batch_size = batch_size\n",
    "        np.random.seed(seed)\n",
    "        shuffle_index = np.random.permutation(np.arange(X.shape[0]))\n",
    "        self._X = X[shuffle_index]\n",
    "        self._y = y[shuffle_index]\n",
    "        self._stop = np.ceil(X.shape[0]/self.batch_size).astype(np.int)\n",
    "\n",
    "    def __len__(self):\n",
    "        return self._stop\n",
    "\n",
    "    def __getitem__(self,item):\n",
    "        p0 = item*self.batch_size\n",
    "        p1 = item*self.batch_size + self.batch_size\n",
    "        return self._X[p0:p1], self._y[p0:p1]        \n",
    "\n",
    "    def __iter__(self):\n",
    "        self._counter = 0\n",
    "        return self\n",
    "\n",
    "    def __next__(self):\n",
    "        if self._counter >= self._stop:\n",
    "            raise StopIteration()\n",
    "        p0 = self._counter*self.batch_size\n",
    "        p1 = self._counter*self.batch_size + self.batch_size\n",
    "        self._counter += 1\n",
    "        return self._X[p0:p1], self._y[p0:p1]"
   ]
  },
  {
   "cell_type": "markdown",
   "metadata": {},
   "source": [
    "## 問題6と7：学習と推定、学習曲線のプロット"
   ]
  },
  {
   "cell_type": "code",
   "execution_count": 75,
   "metadata": {},
   "outputs": [
    {
     "data": {
      "image/png": "[encoded data removed]",
      "text/plain": [
       "<Figure size 864x576 with 1 Axes>"
      ]
     },
     "metadata": {
      "needs_background": "light"
     },
     "output_type": "display_data"
    }
   ],
   "source": [
    "snn = ScratchSimpleNeuralNetrowkClassifier(lr=0.001, epoch=1)\n",
    "snn.fit(X_train, y_train_one_hot, X_val, y_test_one_hot)"
   ]
  },
  {
   "cell_type": "code",
   "execution_count": 76,
   "metadata": {},
   "outputs": [],
   "source": [
    "y_pred = snn.predict(X_val)"
   ]
  },
  {
   "cell_type": "code",
   "execution_count": 77,
   "metadata": {},
   "outputs": [
    {
     "data": {
      "text/plain": [
       "0.8760833333333333"
      ]
     },
     "execution_count": 77,
     "metadata": {},
     "output_type": "execute_result"
    }
   ],
   "source": [
    "accuracy_score(y_val, y_pred)"
   ]
  },
  {
   "cell_type": "markdown",
   "metadata": {},
   "source": [
    "## 問題１：重みの初期値を決めるコードの作成"
   ]
  },
  {
   "cell_type": "markdown",
   "metadata": {},
   "source": [
    "ScratchSimpleNeuralNetrowkClassifierクラス内の__init__（12行目以降）に実装"
   ]
  },
  {
   "cell_type": "markdown",
   "metadata": {},
   "source": [
    "## 問題２：フォワードプロパゲーションの実装"
   ]
  },
  {
   "cell_type": "markdown",
   "metadata": {},
   "source": [
    "ScratchSimpleNeuralNetrowkClassifierクラス内　137行目以降に実装  \n",
    "また、191行目以降に活性化関数を定義  \n",
    "activation_mathod（201行目）は、シグモイドとハイパボリックタンジェントを切り替えるための関数"
   ]
  },
  {
   "cell_type": "markdown",
   "metadata": {},
   "source": [
    "## 問題３：交差エントロピー誤差の実装"
   ]
  },
  {
   "cell_type": "markdown",
   "metadata": {},
   "source": [
    "ScratchSimpleNeuralNetrowkClassifierクラス内　175行目以降に実装"
   ]
  },
  {
   "cell_type": "markdown",
   "metadata": {},
   "source": [
    "## 問題4：バックプロパゲーションの実装"
   ]
  },
  {
   "cell_type": "markdown",
   "metadata": {},
   "source": [
    "ScratchSimpleNeuralNetrowkClassifierクラス内　151行目以降に実装  "
   ]
  },
  {
   "cell_type": "markdown",
   "metadata": {},
   "source": [
    "## 問題5：推定"
   ]
  },
  {
   "cell_type": "markdown",
   "metadata": {},
   "source": [
    "ScratchSimpleNeuralNetrowkClassifierクラス内　108行目以降に実装"
   ]
  }
 ],
 "metadata": {
  "kernelspec": {
   "display_name": "Python 3",
   "language": "python",
   "name": "python3"
  },
  "language_info": {
   "codemirror_mode": {
    "name": "ipython",
    "version": 3
   },
   "file_extension": ".py",
   "mimetype": "text/x-python",
   "name": "python",
   "nbconvert_exporter": "python",
   "pygments_lexer": "ipython3",
   "version": "3.6.8"
  }
 },
 "nbformat": 4,
 "nbformat_minor": 4
}

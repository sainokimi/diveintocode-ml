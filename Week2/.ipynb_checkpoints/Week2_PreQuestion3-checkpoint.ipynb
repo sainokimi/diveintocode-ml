{
 "cells": [
  {
   "cell_type": "markdown",
   "metadata": {},
   "source": [
    "# 問題1：行列積を手計算する"
   ]
  },
  {
   "cell_type": "markdown",
   "metadata": {},
   "source": [
    "$$\n",
    "A = \\begin{bmatrix}\n",
    "-1 & 2 & 3 \\\\\\ \n",
    "4 & -5 & 6 \\\\\\\n",
    "7 & 8 & -9\n",
    "\\end{bmatrix},\n",
    "B=\\begin{bmatrix}\n",
    "0 & 2 & 1 \\\\\\ \n",
    "0 & 2 & -8 \\\\\\\n",
    "2 & 9 & -1\n",
    "\\end{bmatrix}\n",
    "$$"
   ]
  },
  {
   "cell_type": "markdown",
   "metadata": {},
   "source": [
    "<p>[手計算]</p>\n",
    "$$\n",
    "AB=\\begin{bmatrix}\n",
    "(-1*0 + 2*0 + 3*2) & (-1*2 + 2*2 + 3*9) & (-1*1 + 2*-8 + 3*-1) \\\\\\\n",
    "(4*0 + -5*0 + 6*2) & (4*2 + -5*2 + 6*9) & (4*1 + -5*-8 + 6*-1) \\\\\\\n",
    "(7*0 + 8*0 + -9*2) & (7*2 + 8*2 + -9*9) & (7*1 + 8*-8 + -9*-1)\n",
    "\\end{bmatrix}\n",
    "$$\n",
    "$$\n",
    "AB=\\begin{bmatrix}\n",
    "6 & 29 & -20 \\\\\\\n",
    "12 & 52 & 38 \\\\\\\n",
    "-18 & -51 & -48\n",
    "\\end{bmatrix}\n",
    "$$"
   ]
  },
  {
   "cell_type": "markdown",
   "metadata": {},
   "source": [
    "___\n",
    "# 問題2：NumPyの関数による計算"
   ]
  },
  {
   "cell_type": "code",
   "execution_count": 37,
   "metadata": {},
   "outputs": [
    {
     "name": "stdout",
     "output_type": "stream",
     "text": [
      "----- @ ------\n",
      "[[  6  29 -20]\n",
      " [ 12  52  38]\n",
      " [-18 -51 -48]]\n",
      "----- np.matmul() ------\n",
      "[[  6  29 -20]\n",
      " [ 12  52  38]\n",
      " [-18 -51 -48]]\n",
      "----- np.dot() ------\n",
      "[[  6  29 -20]\n",
      " [ 12  52  38]\n",
      " [-18 -51 -48]]\n"
     ]
    }
   ],
   "source": [
    "import numpy as np\n",
    "\n",
    "matrix_a = np.array([[-1, 2, 3],[4, -5, 6],[7, 8, -9]])\n",
    "matrix_b = np.array([[0, 2, 1],[0, 2, -8],[2, 9, -1]])\n",
    "\n",
    "print(\"----- @ ------\")\n",
    "print(matrix_a@matrix_b)\n",
    "print(\"----- np.matmul() ------\")\n",
    "print(np.matmul(matrix_a, matrix_b))\n",
    "print(\"----- np.dot() ------\")\n",
    "print(np.dot(matrix_a, matrix_b))"
   ]
  },
  {
   "cell_type": "markdown",
   "metadata": {},
   "source": [
    "___\n",
    "# 問題3：ある要素の計算を実装"
   ]
  },
  {
   "cell_type": "code",
   "execution_count": 59,
   "metadata": {},
   "outputs": [
    {
     "name": "stdout",
     "output_type": "stream",
     "text": [
      "[[  6  29 -20]\n",
      " [ 12  52  38]\n",
      " [-18 -51 -48]]\n"
     ]
    }
   ],
   "source": [
    "ROWS = 3\n",
    "COLUMNS = 3\n",
    "\n",
    "matrix_ab = np.array([[0, 0, 0],[0, 0, 0],[0, 0, 0]])\n",
    "\n",
    "for row in range(ROWS):\n",
    "    for col in range(COLUMNS):\n",
    "        total = 0\n",
    "        for i in range(COLUMNS):\n",
    "            total = total + matrix_a[row][i]*matrix_b[i][col]\n",
    "        matrix_ab[row][col] = total\n",
    "\n",
    "print(matrix_ab)"
   ]
  },
  {
   "cell_type": "markdown",
   "metadata": {},
   "source": [
    "___\n",
    "# 問題4：行列積を行う関数の作成\n",
    "# 問題5：計算が定義されない入力を判定する\n",
    "# 問題5：転置\n",
    "<p>＊ 3問題を以下のセルでまとめて扱う</p>"
   ]
  },
  {
   "cell_type": "code",
   "execution_count": 151,
   "metadata": {},
   "outputs": [
    {
     "name": "stdout",
     "output_type": "stream",
     "text": [
      "[[  6  29 -20]\n",
      " [ 12  52  38]\n",
      " [-18 -51 -48]]\n",
      "--------------------------------\n",
      "Can't multiple matrix in this case.\n",
      "mtx_a columns is 3, mtx_b rows is 2\n",
      "None\n",
      "--------------------------------\n",
      "[[-20  13]\n",
      " [-58 -43]\n",
      " [ 88  95]]\n"
     ]
    }
   ],
   "source": [
    "ROW = 0\n",
    "COL = 1\n",
    "\n",
    "def multiple_matrix(mtx_a, mtx_b):\n",
    "    \n",
    "    mtx_a_shape = mtx_a.shape\n",
    "    mtx_b_shape = mtx_b.shape\n",
    "    \n",
    "    matrix_list = np.array(np.zeros(mtx_a_shape[ROW]*mtx_b_shape[COL], int))\n",
    "    if mtx_a_shape[ROW] == mtx_a_shape[COL] == mtx_b_shape[ROW] == mtx_b_shape[COL]:\n",
    "        matrix_list = matrix_list.reshape(mtx_a_shape[ROW], mtx_a_shape[COL])\n",
    "    else:\n",
    "        matrix_list = matrix_list.reshape(mtx_a_shape[ROW], mtx_b_shape[COL])\n",
    "\n",
    "    # Prevent calculate in case not match mtx_a columns to mtx_b rows\n",
    "    if mtx_a_shape[COL] != mtx_b_shape[ROW]:\n",
    "        print(\"Can't multiple matrix in this case.\")\n",
    "        print(\"mtx_a columns is {}, mtx_b rows is {}\".format(mtx_a_shape[COL], mtx_b_shape[ROW]))\n",
    "        pass\n",
    "    else:\n",
    "        for row in range(mtx_a_shape[ROW]):\n",
    "            for col in range(mtx_b_shape[COL]):\n",
    "                cell_total = 0\n",
    "                for i in range(mtx_a_shape[COL]):\n",
    "                    cell_total = cell_total + mtx_a[row][i]*mtx_b[i][col]\n",
    "                matrix_list[row][col] = cell_total\n",
    "                \n",
    "        return matrix_list\n",
    "\n",
    "print(multiple_matrix(matrix_a, matrix_b))\n",
    "\n",
    "print(\"--------------------------------\")\n",
    "\n",
    "### 問題5の”計算が定義されない”パターンを実施\n",
    "test_matrix_a = np.array([[-1, 2, 3],[4, -5, 6],[7, 8, -9]])\n",
    "test_matrix_b = np.array([[0, 2, -8],[2, 9, -1]])\n",
    "print(multiple_matrix(test_matrix_a, test_matrix_b))\n",
    "\n",
    "print(\"--------------------------------\")\n",
    "\n",
    "### 問題6の”転置”パターンを実施\n",
    "print(multiple_matrix(test_matrix_a, test_matrix_b.T))"
   ]
  }
 ],
 "metadata": {
  "kernelspec": {
   "display_name": "Python 3",
   "language": "python",
   "name": "python3"
  },
  "language_info": {
   "codemirror_mode": {
    "name": "ipython",
    "version": 3
   },
   "file_extension": ".py",
   "mimetype": "text/x-python",
   "name": "python",
   "nbconvert_exporter": "python",
   "pygments_lexer": "ipython3",
   "version": "3.6.5"
  }
 },
 "nbformat": 4,
 "nbformat_minor": 2
}

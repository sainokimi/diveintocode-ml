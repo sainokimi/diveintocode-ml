{
 "cells": [
  {
   "cell_type": "markdown",
   "metadata": {},
   "source": [
    "# Week2_PreQuestion1 %timeitによる時間計測用"
   ]
  },
  {
   "cell_type": "code",
   "execution_count": 5,
   "metadata": {},
   "outputs": [
    {
     "name": "stdout",
     "output_type": "stream",
     "text": [
      "46.9 ns ± 0.373 ns per loop (mean ± std. dev. of 7 runs, 10000000 loops each)\n"
     ]
    }
   ],
   "source": [
    "%%timeit\n",
    "\n",
    "def calc_number_of_berry_with_np_append(row=1, col=1):\n",
    "\n",
    "    board_ndarray_append = [1]\n",
    "    for _ in range(row*col-1):\n",
    "\n",
    "        board_ndarray_append = np.append(board_ndarray_append, board_ndarray_append[-1]*2).astype(np.uint64)\n",
    "\n",
    "    return board_ndarray_append"
   ]
  },
  {
   "cell_type": "code",
   "execution_count": 6,
   "metadata": {},
   "outputs": [
    {
     "name": "stdout",
     "output_type": "stream",
     "text": [
      "59.7 ns ± 0.823 ns per loop (mean ± std. dev. of 7 runs, 10000000 loops each)\n"
     ]
    }
   ],
   "source": [
    "%%timeit\n",
    "\n",
    "# Calculate number of berry on board at each squares with broadcast\n",
    "def calc_number_of_berry_with_broadcast(row=1, col=1):\n",
    "\n",
    "    board_ndarray_broadcast = [1]\n",
    "    for _ in range(row*col):\n",
    "\n",
    "        indices_of_squares = np.arange(ROWS*COLUMNS)\n",
    "        board_ndarray_broadcast = 2**indices_of_squares.astype(np.uint64)\n",
    "\n",
    "    return board_ndarray_broadcast"
   ]
  },
  {
   "cell_type": "code",
   "execution_count": 7,
   "metadata": {},
   "outputs": [
    {
     "name": "stdout",
     "output_type": "stream",
     "text": [
      "46.5 ns ± 0.269 ns per loop (mean ± std. dev. of 7 runs, 10000000 loops each)\n"
     ]
    }
   ],
   "source": [
    "%%timeit\n",
    "\n",
    "def calc_number_of_berry(row=1, col=1):\n",
    "\n",
    "    list_number_of_berry = [1]\n",
    "    for _ in range(row*col - 1):\n",
    "\n",
    "        list_number_of_berry.append(list_number_of_berry[-1]*2)\n",
    "\n",
    "    return list_number_of_berry"
   ]
  }
 ],
 "metadata": {
  "kernelspec": {
   "display_name": "Python 3",
   "language": "python",
   "name": "python3"
  },
  "language_info": {
   "codemirror_mode": {
    "name": "ipython",
    "version": 3
   },
   "file_extension": ".py",
   "mimetype": "text/x-python",
   "name": "python",
   "nbconvert_exporter": "python",
   "pygments_lexer": "ipython3",
   "version": "3.6.5"
  }
 },
 "nbformat": 4,
 "nbformat_minor": 2
}
